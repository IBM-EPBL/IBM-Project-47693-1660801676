{
  "nbformat": 4,
  "nbformat_minor": 0,
  "metadata": {
    "colab": {
      "provenance": [],
      "collapsed_sections": []
    },
    "kernelspec": {
      "name": "python3",
      "display_name": "Python 3"
    },
    "language_info": {
      "name": "python"
    }
  },
  "cells": [
    {
      "cell_type": "code",
      "source": [
        "import pandas as pd \n",
        "import numpy as np\n",
        "from sklearn.preprocessing import MinMaxScaler\n",
        "from sklearn.metrics import confusion_matrix,accuracy_score"
      ],
      "metadata": {
        "id": "0dtERNr6l1xc"
      },
      "execution_count": null,
      "outputs": []
    },
    {
      "cell_type": "code",
      "source": [
        "data=pd.read_csv(\"dataset_website.csv\")"
      ],
      "metadata": {
        "id": "oJTvmeyCl7q8"
      },
      "execution_count": null,
      "outputs": []
    },
    {
      "cell_type": "code",
      "source": [
        "x=data.iloc[:,1:35].values\n",
        "y=data.iloc[:,-1].values\n",
        "print(x,y)"
      ],
      "metadata": {
        "id": "RFbEFIcOl_6E"
      },
      "execution_count": null,
      "outputs": []
    },
    {
      "cell_type": "markdown",
      "source": [
        "[[-1  1  1 ...  1 -1 -1]\n",
        " [ 1  1  1 ...  1  1 -1]\n",
        " [ 1  0  1 ...  0 -1 -1]\n",
        " ...\n",
        " [ 1 -1  1 ...  0  1 -1]\n",
        " [-1 -1  1 ...  1  1 -1]\n",
        " [-1 -1  1 ...  1 -1 -1]] [-1 -1 -1 ... -1 -1 -1]\n",
        "\n",
        "\n",
        "\n"
      ],
      "metadata": {
        "id": "AYR3Xv4Aow0z"
      }
    },
    {
      "cell_type": "code",
      "source": [
        "from sklearn.model_selection import train_test_split\n",
        "x_train,x_test,y_train,y_test=train_test_split(x,y,test_size=0.2,random_state=0)"
      ],
      "metadata": {
        "id": "Gya9jpmQojKa"
      },
      "execution_count": null,
      "outputs": []
    },
    {
      "cell_type": "code",
      "source": [
        "from sklearn.linear_model import LogisticRegression\n",
        "lr=LogisticRegression()\n",
        "lr.fit(x_train,y_train)"
      ],
      "metadata": {
        "id": "qWOPC746o_vL"
      },
      "execution_count": null,
      "outputs": []
    },
    {
      "cell_type": "markdown",
      "source": [
        "LogisticRegression()"
      ],
      "metadata": {
        "id": "jVOu7Q38pDAp"
      }
    },
    {
      "cell_type": "code",
      "source": [
        "y_pred1=lr.predict(x_test)\n",
        "from sklearn.metrics import accuracy_score\n",
        "log_reg=accuracy_score(y_test,y_pred1)\n",
        "log_reg"
      ],
      "metadata": {
        "id": "7I19uTdZpGWp"
      },
      "execution_count": null,
      "outputs": []
    },
    {
      "cell_type": "markdown",
      "source": [
        "1.0"
      ],
      "metadata": {
        "id": "arrjFsG6pWGz"
      }
    },
    {
      "cell_type": "code",
      "source": [
        "import pickle\n",
        "pickle.dump(lr,open('phishing_website.pkl','wb'))"
      ],
      "metadata": {
        "id": "kbVERheTpahx"
      },
      "execution_count": null,
      "outputs": []
    },
    {
      "cell_type": "code",
      "source": [],
      "metadata": {
        "id": "oQSyfmozpsPx"
      },
      "execution_count": null,
      "outputs": []
    }
  ]
}